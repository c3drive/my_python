{
 "cells": [
  {
   "cell_type": "code",
   "execution_count": 38,
   "metadata": {},
   "outputs": [],
   "source": [
    "import numpy as np\n",
    "import pandas as pd\n",
    "import matplotlib.pyplot as plt\n",
    "import nibabel as nib\n",
    "from glob import glob\n",
    "%matplotlib inline"
   ]
  },
  {
   "cell_type": "markdown",
   "metadata": {},
   "source": [
    "## データのpathをDataFrameにする\n",
    "カラム：FilePathImage, FileName, FilePathMask"
   ]
  },
  {
   "cell_type": "code",
   "execution_count": 39,
   "metadata": {},
   "outputs": [
    {
     "data": {
      "text/plain": [
       "['dataset/public-covid-data/rp_im/1.nii.gz',\n",
       " 'dataset/public-covid-data/rp_im/2.nii.gz',\n",
       " 'dataset/public-covid-data/rp_im/3.nii.gz',\n",
       " 'dataset/public-covid-data/rp_im/4.nii.gz',\n",
       " 'dataset/public-covid-data/rp_im/5.nii.gz',\n",
       " 'dataset/public-covid-data/rp_im/6.nii.gz',\n",
       " 'dataset/public-covid-data/rp_im/7.nii.gz',\n",
       " 'dataset/public-covid-data/rp_im/8.nii.gz',\n",
       " 'dataset/public-covid-data/rp_im/9.nii.gz']"
      ]
     },
     "execution_count": 39,
     "metadata": {},
     "output_type": "execute_result"
    }
   ],
   "source": [
    "# globはワイルドカードを使ってファイル名を取得できる\n",
    "glob('dataset/public-covid-data/rp_im/*')"
   ]
  },
  {
   "cell_type": "code",
   "execution_count": 40,
   "metadata": {},
   "outputs": [
    {
     "data": {
      "text/plain": [
       "['1.nii.gz',\n",
       " '2.nii.gz',\n",
       " '3.nii.gz',\n",
       " '4.nii.gz',\n",
       " '5.nii.gz',\n",
       " '6.nii.gz',\n",
       " '7.nii.gz',\n",
       " '8.nii.gz',\n",
       " '9.nii.gz']"
      ]
     },
     "execution_count": 40,
     "metadata": {},
     "output_type": "execute_result"
    }
   ],
   "source": [
    "# globの結果をsplitすることでfilenameを取得（リスト内包表記）\n",
    "[p.split('/')[3] for p in glob('dataset/public-covid-data/rp_im/*')]"
   ]
  },
  {
   "cell_type": "code",
   "execution_count": 51,
   "metadata": {},
   "outputs": [],
   "source": [
    "rp_im_df = pd.DataFrame({'FilePathImage': glob('dataset/public-covid-data/rp_im/*'),\n",
    "    'FileName': [p.split('/')[-1] for p in glob('dataset/public-covid-data/rp_im/*')]})"
   ]
  },
  {
   "cell_type": "code",
   "execution_count": 53,
   "metadata": {},
   "outputs": [
    {
     "data": {
      "text/html": [
       "<div>\n",
       "<style scoped>\n",
       "    .dataframe tbody tr th:only-of-type {\n",
       "        vertical-align: middle;\n",
       "    }\n",
       "\n",
       "    .dataframe tbody tr th {\n",
       "        vertical-align: top;\n",
       "    }\n",
       "\n",
       "    .dataframe thead th {\n",
       "        text-align: right;\n",
       "    }\n",
       "</style>\n",
       "<table border=\"1\" class=\"dataframe\">\n",
       "  <thead>\n",
       "    <tr style=\"text-align: right;\">\n",
       "      <th></th>\n",
       "      <th>FilePathImage</th>\n",
       "      <th>FileName</th>\n",
       "    </tr>\n",
       "  </thead>\n",
       "  <tbody>\n",
       "    <tr>\n",
       "      <th>0</th>\n",
       "      <td>dataset/public-covid-data/rp_im/1.nii.gz</td>\n",
       "      <td>1.nii.gz</td>\n",
       "    </tr>\n",
       "    <tr>\n",
       "      <th>1</th>\n",
       "      <td>dataset/public-covid-data/rp_im/2.nii.gz</td>\n",
       "      <td>2.nii.gz</td>\n",
       "    </tr>\n",
       "    <tr>\n",
       "      <th>2</th>\n",
       "      <td>dataset/public-covid-data/rp_im/3.nii.gz</td>\n",
       "      <td>3.nii.gz</td>\n",
       "    </tr>\n",
       "    <tr>\n",
       "      <th>3</th>\n",
       "      <td>dataset/public-covid-data/rp_im/4.nii.gz</td>\n",
       "      <td>4.nii.gz</td>\n",
       "    </tr>\n",
       "    <tr>\n",
       "      <th>4</th>\n",
       "      <td>dataset/public-covid-data/rp_im/5.nii.gz</td>\n",
       "      <td>5.nii.gz</td>\n",
       "    </tr>\n",
       "    <tr>\n",
       "      <th>5</th>\n",
       "      <td>dataset/public-covid-data/rp_im/6.nii.gz</td>\n",
       "      <td>6.nii.gz</td>\n",
       "    </tr>\n",
       "    <tr>\n",
       "      <th>6</th>\n",
       "      <td>dataset/public-covid-data/rp_im/7.nii.gz</td>\n",
       "      <td>7.nii.gz</td>\n",
       "    </tr>\n",
       "    <tr>\n",
       "      <th>7</th>\n",
       "      <td>dataset/public-covid-data/rp_im/8.nii.gz</td>\n",
       "      <td>8.nii.gz</td>\n",
       "    </tr>\n",
       "    <tr>\n",
       "      <th>8</th>\n",
       "      <td>dataset/public-covid-data/rp_im/9.nii.gz</td>\n",
       "      <td>9.nii.gz</td>\n",
       "    </tr>\n",
       "  </tbody>\n",
       "</table>\n",
       "</div>"
      ],
      "text/plain": [
       "                              FilePathImage  FileName\n",
       "0  dataset/public-covid-data/rp_im/1.nii.gz  1.nii.gz\n",
       "1  dataset/public-covid-data/rp_im/2.nii.gz  2.nii.gz\n",
       "2  dataset/public-covid-data/rp_im/3.nii.gz  3.nii.gz\n",
       "3  dataset/public-covid-data/rp_im/4.nii.gz  4.nii.gz\n",
       "4  dataset/public-covid-data/rp_im/5.nii.gz  5.nii.gz\n",
       "5  dataset/public-covid-data/rp_im/6.nii.gz  6.nii.gz\n",
       "6  dataset/public-covid-data/rp_im/7.nii.gz  7.nii.gz\n",
       "7  dataset/public-covid-data/rp_im/8.nii.gz  8.nii.gz\n",
       "8  dataset/public-covid-data/rp_im/9.nii.gz  9.nii.gz"
      ]
     },
     "execution_count": 53,
     "metadata": {},
     "output_type": "execute_result"
    }
   ],
   "source": [
    "# dataframeを作る\n",
    "rp_im_df = pd.DataFrame({\n",
    "    'FilePathImage': glob('dataset/public-covid-data/rp_im/*'),\n",
    "    'FileName': [p.split('/')[-1] for p in glob('dataset/public-covid-data/rp_im/*')]})\n",
    "rp_im_df"
   ]
  },
  {
   "cell_type": "code",
   "execution_count": 55,
   "metadata": {},
   "outputs": [
    {
     "data": {
      "text/html": [
       "<div>\n",
       "<style scoped>\n",
       "    .dataframe tbody tr th:only-of-type {\n",
       "        vertical-align: middle;\n",
       "    }\n",
       "\n",
       "    .dataframe tbody tr th {\n",
       "        vertical-align: top;\n",
       "    }\n",
       "\n",
       "    .dataframe thead th {\n",
       "        text-align: right;\n",
       "    }\n",
       "</style>\n",
       "<table border=\"1\" class=\"dataframe\">\n",
       "  <thead>\n",
       "    <tr style=\"text-align: right;\">\n",
       "      <th></th>\n",
       "      <th>FilePathMask</th>\n",
       "      <th>FileName</th>\n",
       "    </tr>\n",
       "  </thead>\n",
       "  <tbody>\n",
       "    <tr>\n",
       "      <th>0</th>\n",
       "      <td>dataset/public-covid-data/rp_msk/1.nii.gz</td>\n",
       "      <td>1.nii.gz</td>\n",
       "    </tr>\n",
       "    <tr>\n",
       "      <th>1</th>\n",
       "      <td>dataset/public-covid-data/rp_msk/2.nii.gz</td>\n",
       "      <td>2.nii.gz</td>\n",
       "    </tr>\n",
       "    <tr>\n",
       "      <th>2</th>\n",
       "      <td>dataset/public-covid-data/rp_msk/3.nii.gz</td>\n",
       "      <td>3.nii.gz</td>\n",
       "    </tr>\n",
       "    <tr>\n",
       "      <th>3</th>\n",
       "      <td>dataset/public-covid-data/rp_msk/4.nii.gz</td>\n",
       "      <td>4.nii.gz</td>\n",
       "    </tr>\n",
       "    <tr>\n",
       "      <th>4</th>\n",
       "      <td>dataset/public-covid-data/rp_msk/5.nii.gz</td>\n",
       "      <td>5.nii.gz</td>\n",
       "    </tr>\n",
       "    <tr>\n",
       "      <th>5</th>\n",
       "      <td>dataset/public-covid-data/rp_msk/6.nii.gz</td>\n",
       "      <td>6.nii.gz</td>\n",
       "    </tr>\n",
       "    <tr>\n",
       "      <th>6</th>\n",
       "      <td>dataset/public-covid-data/rp_msk/7.nii.gz</td>\n",
       "      <td>7.nii.gz</td>\n",
       "    </tr>\n",
       "    <tr>\n",
       "      <th>7</th>\n",
       "      <td>dataset/public-covid-data/rp_msk/8.nii.gz</td>\n",
       "      <td>8.nii.gz</td>\n",
       "    </tr>\n",
       "    <tr>\n",
       "      <th>8</th>\n",
       "      <td>dataset/public-covid-data/rp_msk/9.nii.gz</td>\n",
       "      <td>9.nii.gz</td>\n",
       "    </tr>\n",
       "  </tbody>\n",
       "</table>\n",
       "</div>"
      ],
      "text/plain": [
       "                                FilePathMask  FileName\n",
       "0  dataset/public-covid-data/rp_msk/1.nii.gz  1.nii.gz\n",
       "1  dataset/public-covid-data/rp_msk/2.nii.gz  2.nii.gz\n",
       "2  dataset/public-covid-data/rp_msk/3.nii.gz  3.nii.gz\n",
       "3  dataset/public-covid-data/rp_msk/4.nii.gz  4.nii.gz\n",
       "4  dataset/public-covid-data/rp_msk/5.nii.gz  5.nii.gz\n",
       "5  dataset/public-covid-data/rp_msk/6.nii.gz  6.nii.gz\n",
       "6  dataset/public-covid-data/rp_msk/7.nii.gz  7.nii.gz\n",
       "7  dataset/public-covid-data/rp_msk/8.nii.gz  8.nii.gz\n",
       "8  dataset/public-covid-data/rp_msk/9.nii.gz  9.nii.gz"
      ]
     },
     "execution_count": 55,
     "metadata": {},
     "output_type": "execute_result"
    }
   ],
   "source": [
    "# mask版を作る\n",
    "rp_msk_df = pd.DataFrame({\n",
    "    'FilePathMask': glob('dataset/public-covid-data/rp_msk/*'),\n",
    "    'FileName': [p.split('/')[-1] for p in glob('dataset/public-covid-data/rp_msk/*')]})\n",
    "rp_msk_df"
   ]
  },
  {
   "cell_type": "code",
   "execution_count": 59,
   "metadata": {},
   "outputs": [
    {
     "data": {
      "text/html": [
       "<div>\n",
       "<style scoped>\n",
       "    .dataframe tbody tr th:only-of-type {\n",
       "        vertical-align: middle;\n",
       "    }\n",
       "\n",
       "    .dataframe tbody tr th {\n",
       "        vertical-align: top;\n",
       "    }\n",
       "\n",
       "    .dataframe thead th {\n",
       "        text-align: right;\n",
       "    }\n",
       "</style>\n",
       "<table border=\"1\" class=\"dataframe\">\n",
       "  <thead>\n",
       "    <tr style=\"text-align: right;\">\n",
       "      <th></th>\n",
       "      <th>FilePathImage</th>\n",
       "      <th>FileName</th>\n",
       "      <th>FilePathMask</th>\n",
       "    </tr>\n",
       "  </thead>\n",
       "  <tbody>\n",
       "    <tr>\n",
       "      <th>0</th>\n",
       "      <td>dataset/public-covid-data/rp_im/1.nii.gz</td>\n",
       "      <td>1.nii.gz</td>\n",
       "      <td>dataset/public-covid-data/rp_msk/1.nii.gz</td>\n",
       "    </tr>\n",
       "    <tr>\n",
       "      <th>1</th>\n",
       "      <td>dataset/public-covid-data/rp_im/2.nii.gz</td>\n",
       "      <td>2.nii.gz</td>\n",
       "      <td>dataset/public-covid-data/rp_msk/2.nii.gz</td>\n",
       "    </tr>\n",
       "    <tr>\n",
       "      <th>2</th>\n",
       "      <td>dataset/public-covid-data/rp_im/3.nii.gz</td>\n",
       "      <td>3.nii.gz</td>\n",
       "      <td>dataset/public-covid-data/rp_msk/3.nii.gz</td>\n",
       "    </tr>\n",
       "    <tr>\n",
       "      <th>3</th>\n",
       "      <td>dataset/public-covid-data/rp_im/4.nii.gz</td>\n",
       "      <td>4.nii.gz</td>\n",
       "      <td>dataset/public-covid-data/rp_msk/4.nii.gz</td>\n",
       "    </tr>\n",
       "    <tr>\n",
       "      <th>4</th>\n",
       "      <td>dataset/public-covid-data/rp_im/5.nii.gz</td>\n",
       "      <td>5.nii.gz</td>\n",
       "      <td>dataset/public-covid-data/rp_msk/5.nii.gz</td>\n",
       "    </tr>\n",
       "    <tr>\n",
       "      <th>5</th>\n",
       "      <td>dataset/public-covid-data/rp_im/6.nii.gz</td>\n",
       "      <td>6.nii.gz</td>\n",
       "      <td>dataset/public-covid-data/rp_msk/6.nii.gz</td>\n",
       "    </tr>\n",
       "    <tr>\n",
       "      <th>6</th>\n",
       "      <td>dataset/public-covid-data/rp_im/7.nii.gz</td>\n",
       "      <td>7.nii.gz</td>\n",
       "      <td>dataset/public-covid-data/rp_msk/7.nii.gz</td>\n",
       "    </tr>\n",
       "    <tr>\n",
       "      <th>7</th>\n",
       "      <td>dataset/public-covid-data/rp_im/8.nii.gz</td>\n",
       "      <td>8.nii.gz</td>\n",
       "      <td>dataset/public-covid-data/rp_msk/8.nii.gz</td>\n",
       "    </tr>\n",
       "    <tr>\n",
       "      <th>8</th>\n",
       "      <td>dataset/public-covid-data/rp_im/9.nii.gz</td>\n",
       "      <td>9.nii.gz</td>\n",
       "      <td>dataset/public-covid-data/rp_msk/9.nii.gz</td>\n",
       "    </tr>\n",
       "  </tbody>\n",
       "</table>\n",
       "</div>"
      ],
      "text/plain": [
       "                              FilePathImage  FileName  \\\n",
       "0  dataset/public-covid-data/rp_im/1.nii.gz  1.nii.gz   \n",
       "1  dataset/public-covid-data/rp_im/2.nii.gz  2.nii.gz   \n",
       "2  dataset/public-covid-data/rp_im/3.nii.gz  3.nii.gz   \n",
       "3  dataset/public-covid-data/rp_im/4.nii.gz  4.nii.gz   \n",
       "4  dataset/public-covid-data/rp_im/5.nii.gz  5.nii.gz   \n",
       "5  dataset/public-covid-data/rp_im/6.nii.gz  6.nii.gz   \n",
       "6  dataset/public-covid-data/rp_im/7.nii.gz  7.nii.gz   \n",
       "7  dataset/public-covid-data/rp_im/8.nii.gz  8.nii.gz   \n",
       "8  dataset/public-covid-data/rp_im/9.nii.gz  9.nii.gz   \n",
       "\n",
       "                                FilePathMask  \n",
       "0  dataset/public-covid-data/rp_msk/1.nii.gz  \n",
       "1  dataset/public-covid-data/rp_msk/2.nii.gz  \n",
       "2  dataset/public-covid-data/rp_msk/3.nii.gz  \n",
       "3  dataset/public-covid-data/rp_msk/4.nii.gz  \n",
       "4  dataset/public-covid-data/rp_msk/5.nii.gz  \n",
       "5  dataset/public-covid-data/rp_msk/6.nii.gz  \n",
       "6  dataset/public-covid-data/rp_msk/7.nii.gz  \n",
       "7  dataset/public-covid-data/rp_msk/8.nii.gz  \n",
       "8  dataset/public-covid-data/rp_msk/9.nii.gz  "
      ]
     },
     "execution_count": 59,
     "metadata": {},
     "output_type": "execute_result"
    }
   ],
   "source": [
    "# filenameをkeyにmerge\n",
    "rp_im_df.merge(rp_msk_df, on='FileName')"
   ]
  },
  {
   "cell_type": "markdown",
   "metadata": {},
   "source": [
    "### 関数化\n",
    "やりたことはできたが、汚いため関数にして、juptylabはそれを実行するだけにするのが一般的"
   ]
  },
  {
   "cell_type": "code",
   "execution_count": 77,
   "metadata": {},
   "outputs": [],
   "source": [
    "# 同じコードを編集していく\n",
    "def get_df(basepath='dataset/public-covid-data', folder='rp_im'):\n",
    "    data_dict = pd.DataFrame({\n",
    "        'FilePath': glob('{}/{}/*'.format(basepath, folder)),\n",
    "        'FileName': [p.split('/')[-1] for p in glob('{}/{}/*'.format(basepath, folder))]\n",
    "    })\n",
    "    return data_dict\n",
    "\n",
    "def get_df_all(basepath='dataset/public-covid-data'):\n",
    "    rp_im_df = get_df(basepath, 'rp_im')\n",
    "    rp_msk_df = get_df(basepath, 'rp_msk')\n",
    "    return rp_im_df.merge(rp_msk_df, on='FileName', suffixes=(('Image', 'Mask')))"
   ]
  },
  {
   "cell_type": "code",
   "execution_count": 78,
   "metadata": {},
   "outputs": [
    {
     "data": {
      "text/html": [
       "<div>\n",
       "<style scoped>\n",
       "    .dataframe tbody tr th:only-of-type {\n",
       "        vertical-align: middle;\n",
       "    }\n",
       "\n",
       "    .dataframe tbody tr th {\n",
       "        vertical-align: top;\n",
       "    }\n",
       "\n",
       "    .dataframe thead th {\n",
       "        text-align: right;\n",
       "    }\n",
       "</style>\n",
       "<table border=\"1\" class=\"dataframe\">\n",
       "  <thead>\n",
       "    <tr style=\"text-align: right;\">\n",
       "      <th></th>\n",
       "      <th>FilePathImage</th>\n",
       "      <th>FileName</th>\n",
       "      <th>FilePathMask</th>\n",
       "    </tr>\n",
       "  </thead>\n",
       "  <tbody>\n",
       "    <tr>\n",
       "      <th>0</th>\n",
       "      <td>dataset/public-covid-data/rp_im/1.nii.gz</td>\n",
       "      <td>1.nii.gz</td>\n",
       "      <td>dataset/public-covid-data/rp_msk/1.nii.gz</td>\n",
       "    </tr>\n",
       "    <tr>\n",
       "      <th>1</th>\n",
       "      <td>dataset/public-covid-data/rp_im/2.nii.gz</td>\n",
       "      <td>2.nii.gz</td>\n",
       "      <td>dataset/public-covid-data/rp_msk/2.nii.gz</td>\n",
       "    </tr>\n",
       "    <tr>\n",
       "      <th>2</th>\n",
       "      <td>dataset/public-covid-data/rp_im/3.nii.gz</td>\n",
       "      <td>3.nii.gz</td>\n",
       "      <td>dataset/public-covid-data/rp_msk/3.nii.gz</td>\n",
       "    </tr>\n",
       "    <tr>\n",
       "      <th>3</th>\n",
       "      <td>dataset/public-covid-data/rp_im/4.nii.gz</td>\n",
       "      <td>4.nii.gz</td>\n",
       "      <td>dataset/public-covid-data/rp_msk/4.nii.gz</td>\n",
       "    </tr>\n",
       "    <tr>\n",
       "      <th>4</th>\n",
       "      <td>dataset/public-covid-data/rp_im/5.nii.gz</td>\n",
       "      <td>5.nii.gz</td>\n",
       "      <td>dataset/public-covid-data/rp_msk/5.nii.gz</td>\n",
       "    </tr>\n",
       "    <tr>\n",
       "      <th>5</th>\n",
       "      <td>dataset/public-covid-data/rp_im/6.nii.gz</td>\n",
       "      <td>6.nii.gz</td>\n",
       "      <td>dataset/public-covid-data/rp_msk/6.nii.gz</td>\n",
       "    </tr>\n",
       "    <tr>\n",
       "      <th>6</th>\n",
       "      <td>dataset/public-covid-data/rp_im/7.nii.gz</td>\n",
       "      <td>7.nii.gz</td>\n",
       "      <td>dataset/public-covid-data/rp_msk/7.nii.gz</td>\n",
       "    </tr>\n",
       "    <tr>\n",
       "      <th>7</th>\n",
       "      <td>dataset/public-covid-data/rp_im/8.nii.gz</td>\n",
       "      <td>8.nii.gz</td>\n",
       "      <td>dataset/public-covid-data/rp_msk/8.nii.gz</td>\n",
       "    </tr>\n",
       "    <tr>\n",
       "      <th>8</th>\n",
       "      <td>dataset/public-covid-data/rp_im/9.nii.gz</td>\n",
       "      <td>9.nii.gz</td>\n",
       "      <td>dataset/public-covid-data/rp_msk/9.nii.gz</td>\n",
       "    </tr>\n",
       "  </tbody>\n",
       "</table>\n",
       "</div>"
      ],
      "text/plain": [
       "                              FilePathImage  FileName  \\\n",
       "0  dataset/public-covid-data/rp_im/1.nii.gz  1.nii.gz   \n",
       "1  dataset/public-covid-data/rp_im/2.nii.gz  2.nii.gz   \n",
       "2  dataset/public-covid-data/rp_im/3.nii.gz  3.nii.gz   \n",
       "3  dataset/public-covid-data/rp_im/4.nii.gz  4.nii.gz   \n",
       "4  dataset/public-covid-data/rp_im/5.nii.gz  5.nii.gz   \n",
       "5  dataset/public-covid-data/rp_im/6.nii.gz  6.nii.gz   \n",
       "6  dataset/public-covid-data/rp_im/7.nii.gz  7.nii.gz   \n",
       "7  dataset/public-covid-data/rp_im/8.nii.gz  8.nii.gz   \n",
       "8  dataset/public-covid-data/rp_im/9.nii.gz  9.nii.gz   \n",
       "\n",
       "                                FilePathMask  \n",
       "0  dataset/public-covid-data/rp_msk/1.nii.gz  \n",
       "1  dataset/public-covid-data/rp_msk/2.nii.gz  \n",
       "2  dataset/public-covid-data/rp_msk/3.nii.gz  \n",
       "3  dataset/public-covid-data/rp_msk/4.nii.gz  \n",
       "4  dataset/public-covid-data/rp_msk/5.nii.gz  \n",
       "5  dataset/public-covid-data/rp_msk/6.nii.gz  \n",
       "6  dataset/public-covid-data/rp_msk/7.nii.gz  \n",
       "7  dataset/public-covid-data/rp_msk/8.nii.gz  \n",
       "8  dataset/public-covid-data/rp_msk/9.nii.gz  "
      ]
     },
     "execution_count": 78,
     "metadata": {},
     "output_type": "execute_result"
    }
   ],
   "source": [
    "get_df_all()"
   ]
  },
  {
   "cell_type": "markdown",
   "metadata": {},
   "source": [
    "## 関数をpythonスクリプトにする\n",
    "1. jupyterlabの左ペインの＋から、textfileを押下\n",
    "2. Renameにてctvis.pyなどにする\n",
    "3. Jupyterlabの方に戻り複数セルをマージしたい場合、洗濯して、Shift M\n",
    "4. cmd+aで全選択肢、Cmf+cでコピーして2で作ったファイルへコピー\n",
    "5. 2で作ったファイルにimport文を書く\n",
    "6. そのスクリプト内でしか呼ばれない関数は_をつける（つけても呼べるが動作保証されていない）\n",
    "7. jupyterlabでインポートして利用する"
   ]
  },
  {
   "cell_type": "code",
   "execution_count": 81,
   "metadata": {},
   "outputs": [
    {
     "name": "stdout",
     "output_type": "stream",
     "text": [
      "The autoreload extension is already loaded. To reload it, use:\n",
      "  %reload_ext autoreload\n"
     ]
    }
   ],
   "source": [
    "# 作ったファイルをインポートする\n",
    "# スクリプトファイルを変更する可能性が高いのでオーとリロード\n",
    "%load_ext autoreload\n",
    "%autoreload 2\n",
    "# この書き方をすると_のプライベートファンクションは呼べる\n",
    "# 使う時は、ctvis.XXXXXX（関数名）\n",
    "import ctvis\n",
    "# この書き方をすると_のプライベートファンクションは呼べない。この使い方はあまりない。\n",
    "# 使う時は、XXXXXX（関数名）\n",
    "from ctvis import * # "
   ]
  },
  {
   "cell_type": "code",
   "execution_count": 83,
   "metadata": {},
   "outputs": [
    {
     "data": {
      "text/html": [
       "<div>\n",
       "<style scoped>\n",
       "    .dataframe tbody tr th:only-of-type {\n",
       "        vertical-align: middle;\n",
       "    }\n",
       "\n",
       "    .dataframe tbody tr th {\n",
       "        vertical-align: top;\n",
       "    }\n",
       "\n",
       "    .dataframe thead th {\n",
       "        text-align: right;\n",
       "    }\n",
       "</style>\n",
       "<table border=\"1\" class=\"dataframe\">\n",
       "  <thead>\n",
       "    <tr style=\"text-align: right;\">\n",
       "      <th></th>\n",
       "      <th>FilePathImage</th>\n",
       "      <th>FilePathMask</th>\n",
       "      <th>FileName</th>\n",
       "    </tr>\n",
       "  </thead>\n",
       "  <tbody>\n",
       "  </tbody>\n",
       "</table>\n",
       "</div>"
      ],
      "text/plain": [
       "Empty DataFrame\n",
       "Columns: [FilePathImage, FilePathMask, FileName]\n",
       "Index: []"
      ]
     },
     "execution_count": 83,
     "metadata": {},
     "output_type": "execute_result"
    }
   ],
   "source": [
    "df = ctvis.get_df_all()\n",
    "df"
   ]
  },
  {
   "cell_type": "markdown",
   "metadata": {},
   "source": [
    "## NIfTIデータをNumPy Arrayとしてロードする"
   ]
  },
  {
   "cell_type": "code",
   "execution_count": null,
   "metadata": {},
   "outputs": [],
   "source": [
    "n"
   ]
  }
 ],
 "metadata": {
  "kernelspec": {
   "display_name": "Python 3",
   "language": "python",
   "name": "python3"
  },
  "language_info": {
   "codemirror_mode": {
    "name": "ipython",
    "version": 3
   },
   "file_extension": ".py",
   "mimetype": "text/x-python",
   "name": "python",
   "nbconvert_exporter": "python",
   "pygments_lexer": "ipython3",
   "version": "3.7.6"
  }
 },
 "nbformat": 4,
 "nbformat_minor": 4
}
