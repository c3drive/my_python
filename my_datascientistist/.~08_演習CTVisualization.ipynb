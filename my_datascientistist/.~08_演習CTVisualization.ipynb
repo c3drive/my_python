{
 "cells": [
  {
   "cell_type": "code",
   "execution_count": 84,
   "metadata": {},
   "outputs": [],
   "source": [
    "import numpy as np\n",
    "import pandas as pd\n",
    "import matplotlib.pyplot as plt\n",
    "import nibabel as nib\n",
    "from glob import glob\n",
    "%matplotlib inline"
   ]
  },
  {
   "cell_type": "markdown",
   "metadata": {},
   "source": [
    "## データのpathをDataFrameにする\n",
    "カラム：FilePathImage, FileName, FilePathMask"
   ]
  },
  {
   "cell_type": "code",
   "execution_count": 85,
   "metadata": {},
   "outputs": [
    {
     "data": {
      "text/plain": [
       "['dataset/public-covid-data/rp_im/1.nii.gz',\n",
       " 'dataset/public-covid-data/rp_im/2.nii.gz',\n",
       " 'dataset/public-covid-data/rp_im/3.nii.gz',\n",
       " 'dataset/public-covid-data/rp_im/4.nii.gz',\n",
       " 'dataset/public-covid-data/rp_im/5.nii.gz',\n",
       " 'dataset/public-covid-data/rp_im/6.nii.gz',\n",
       " 'dataset/public-covid-data/rp_im/7.nii.gz',\n",
       " 'dataset/public-covid-data/rp_im/8.nii.gz',\n",
       " 'dataset/public-covid-data/rp_im/9.nii.gz']"
      ]
     },
     "execution_count": 85,
     "metadata": {},
     "output_type": "execute_result"
    }
   ],
   "source": [
    "# globはワイルドカードを使ってファイル名を取得できる\n",
    "glob('dataset/public-covid-data/rp_im/*')"
   ]
  },
  {
   "cell_type": "code",
   "execution_count": 86,
   "metadata": {},
   "outputs": [
    {
     "data": {
      "text/plain": [
       "['1.nii.gz',\n",
       " '2.nii.gz',\n",
       " '3.nii.gz',\n",
       " '4.nii.gz',\n",
       " '5.nii.gz',\n",
       " '6.nii.gz',\n",
       " '7.nii.gz',\n",
       " '8.nii.gz',\n",
       " '9.nii.gz']"
      ]
     },
     "execution_count": 86,
     "metadata": {},
     "output_type": "execute_result"
    }
   ],
   "source": [
    "# globの結果をsplitすることでfilenameを取得（リスト内包表記）\n",
    "[p.split('/')[3] for p in glob('dataset/public-covid-data/rp_im/*')]"
   ]
  },
  {
   "cell_type": "code",
   "execution_count": 87,
   "metadata": {},
   "outputs": [],
   "source": [
    "rp_im_df = pd.DataFrame({'FilePathImage': glob('dataset/public-covid-data/rp_im/*'),\n",
    "    'FileName': [p.split('/')[-1] for p in glob('dataset/public-covid-data/rp_im/*')]})"
   ]
  },
  {
   "cell_type": "code",
   "execution_count": 88,
   "metadata": {},
   "outputs": [
    {
     "data": {
      "text/html": [
       "<div>\n",
       "<style scoped>\n",
       "    .dataframe tbody tr th:only-of-type {\n",
       "        vertical-align: middle;\n",
       "    }\n",
       "\n",
       "    .dataframe tbody tr th {\n",
       "        vertical-align: top;\n",
       "    }\n",
       "\n",
       "    .dataframe thead th {\n",
       "        text-align: right;\n",
       "    }\n",
       "</style>\n",
       "<table border=\"1\" class=\"dataframe\">\n",
       "  <thead>\n",
       "    <tr style=\"text-align: right;\">\n",
       "      <th></th>\n",
       "      <th>FilePathImage</th>\n",
       "      <th>FileName</th>\n",
       "    </tr>\n",
       "  </thead>\n",
       "  <tbody>\n",
       "    <tr>\n",
       "      <th>0</th>\n",
       "      <td>dataset/public-covid-data/rp_im/1.nii.gz</td>\n",
       "      <td>1.nii.gz</td>\n",
       "    </tr>\n",
       "    <tr>\n",
       "      <th>1</th>\n",
       "      <td>dataset/public-covid-data/rp_im/2.nii.gz</td>\n",
       "      <td>2.nii.gz</td>\n",
       "    </tr>\n",
       "    <tr>\n",
       "      <th>2</th>\n",
       "      <td>dataset/public-covid-data/rp_im/3.nii.gz</td>\n",
       "      <td>3.nii.gz</td>\n",
       "    </tr>\n",
       "    <tr>\n",
       "      <th>3</th>\n",
       "      <td>dataset/public-covid-data/rp_im/4.nii.gz</td>\n",
       "      <td>4.nii.gz</td>\n",
       "    </tr>\n",
       "    <tr>\n",
       "      <th>4</th>\n",
       "      <td>dataset/public-covid-data/rp_im/5.nii.gz</td>\n",
       "      <td>5.nii.gz</td>\n",
       "    </tr>\n",
       "    <tr>\n",
       "      <th>5</th>\n",
       "      <td>dataset/public-covid-data/rp_im/6.nii.gz</td>\n",
       "      <td>6.nii.gz</td>\n",
       "    </tr>\n",
       "    <tr>\n",
       "      <th>6</th>\n",
       "      <td>dataset/public-covid-data/rp_im/7.nii.gz</td>\n",
       "      <td>7.nii.gz</td>\n",
       "    </tr>\n",
       "    <tr>\n",
       "      <th>7</th>\n",
       "      <td>dataset/public-covid-data/rp_im/8.nii.gz</td>\n",
       "      <td>8.nii.gz</td>\n",
       "    </tr>\n",
       "    <tr>\n",
       "      <th>8</th>\n",
       "      <td>dataset/public-covid-data/rp_im/9.nii.gz</td>\n",
       "      <td>9.nii.gz</td>\n",
       "    </tr>\n",
       "  </tbody>\n",
       "</table>\n",
       "</div>"
      ],
      "text/plain": [
       "                              FilePathImage  FileName\n",
       "0  dataset/public-covid-data/rp_im/1.nii.gz  1.nii.gz\n",
       "1  dataset/public-covid-data/rp_im/2.nii.gz  2.nii.gz\n",
       "2  dataset/public-covid-data/rp_im/3.nii.gz  3.nii.gz\n",
       "3  dataset/public-covid-data/rp_im/4.nii.gz  4.nii.gz\n",
       "4  dataset/public-covid-data/rp_im/5.nii.gz  5.nii.gz\n",
       "5  dataset/public-covid-data/rp_im/6.nii.gz  6.nii.gz\n",
       "6  dataset/public-covid-data/rp_im/7.nii.gz  7.nii.gz\n",
       "7  dataset/public-covid-data/rp_im/8.nii.gz  8.nii.gz\n",
       "8  dataset/public-covid-data/rp_im/9.nii.gz  9.nii.gz"
      ]
     },
     "execution_count": 88,
     "metadata": {},
     "output_type": "execute_result"
    }
   ],
   "source": [
    "# dataframeを作る\n",
    "rp_im_df = pd.DataFrame({\n",
    "    'FilePathImage': glob('dataset/public-covid-data/rp_im/*'),\n",
    "    'FileName': [p.split('/')[-1] for p in glob('dataset/public-covid-data/rp_im/*')]})\n",
    "rp_im_df"
   ]
  },
  {
   "cell_type": "code",
   "execution_count": 89,
   "metadata": {},
   "outputs": [
    {
     "data": {
      "text/html": [
       "<div>\n",
       "<style scoped>\n",
       "    .dataframe tbody tr th:only-of-type {\n",
       "        vertical-align: middle;\n",
       "    }\n",
       "\n",
       "    .dataframe tbody tr th {\n",
       "        vertical-align: top;\n",
       "    }\n",
       "\n",
       "    .dataframe thead th {\n",
       "        text-align: right;\n",
       "    }\n",
       "</style>\n",
       "<table border=\"1\" class=\"dataframe\">\n",
       "  <thead>\n",
       "    <tr style=\"text-align: right;\">\n",
       "      <th></th>\n",
       "      <th>FilePathMask</th>\n",
       "      <th>FileName</th>\n",
       "    </tr>\n",
       "  </thead>\n",
       "  <tbody>\n",
       "    <tr>\n",
       "      <th>0</th>\n",
       "      <td>dataset/public-covid-data/rp_msk/1.nii.gz</td>\n",
       "      <td>1.nii.gz</td>\n",
       "    </tr>\n",
       "    <tr>\n",
       "      <th>1</th>\n",
       "      <td>dataset/public-covid-data/rp_msk/2.nii.gz</td>\n",
       "      <td>2.nii.gz</td>\n",
       "    </tr>\n",
       "    <tr>\n",
       "      <th>2</th>\n",
       "      <td>dataset/public-covid-data/rp_msk/3.nii.gz</td>\n",
       "      <td>3.nii.gz</td>\n",
       "    </tr>\n",
       "    <tr>\n",
       "      <th>3</th>\n",
       "      <td>dataset/public-covid-data/rp_msk/4.nii.gz</td>\n",
       "      <td>4.nii.gz</td>\n",
       "    </tr>\n",
       "    <tr>\n",
       "      <th>4</th>\n",
       "      <td>dataset/public-covid-data/rp_msk/5.nii.gz</td>\n",
       "      <td>5.nii.gz</td>\n",
       "    </tr>\n",
       "    <tr>\n",
       "      <th>5</th>\n",
       "      <td>dataset/public-covid-data/rp_msk/6.nii.gz</td>\n",
       "      <td>6.nii.gz</td>\n",
       "    </tr>\n",
       "    <tr>\n",
       "      <th>6</th>\n",
       "      <td>dataset/public-covid-data/rp_msk/7.nii.gz</td>\n",
       "      <td>7.nii.gz</td>\n",
       "    </tr>\n",
       "    <tr>\n",
       "      <th>7</th>\n",
       "      <td>dataset/public-covid-data/rp_msk/8.nii.gz</td>\n",
       "      <td>8.nii.gz</td>\n",
       "    </tr>\n",
       "    <tr>\n",
       "      <th>8</th>\n",
       "      <td>dataset/public-covid-data/rp_msk/9.nii.gz</td>\n",
       "      <td>9.nii.gz</td>\n",
       "    </tr>\n",
       "  </tbody>\n",
       "</table>\n",
       "</div>"
      ],
      "text/plain": [
       "                                FilePathMask  FileName\n",
       "0  dataset/public-covid-data/rp_msk/1.nii.gz  1.nii.gz\n",
       "1  dataset/public-covid-data/rp_msk/2.nii.gz  2.nii.gz\n",
       "2  dataset/public-covid-data/rp_msk/3.nii.gz  3.nii.gz\n",
       "3  dataset/public-covid-data/rp_msk/4.nii.gz  4.nii.gz\n",
       "4  dataset/public-covid-data/rp_msk/5.nii.gz  5.nii.gz\n",
       "5  dataset/public-covid-data/rp_msk/6.nii.gz  6.nii.gz\n",
       "6  dataset/public-covid-data/rp_msk/7.nii.gz  7.nii.gz\n",
       "7  dataset/public-covid-data/rp_msk/8.nii.gz  8.nii.gz\n",
       "8  dataset/public-covid-data/rp_msk/9.nii.gz  9.nii.gz"
      ]
     },
     "execution_count": 89,
     "metadata": {},
     "output_type": "execute_result"
    }
   ],
   "source": [
    "# mask版を作る\n",
    "rp_msk_df = pd.DataFrame({\n",
    "    'FilePathMask': glob('dataset/public-covid-data/rp_msk/*'),\n",
    "    'FileName': [p.split('/')[-1] for p in glob('dataset/public-covid-data/rp_msk/*')]})\n",
    "rp_msk_df"
   ]
  },
  {
   "cell_type": "code",
   "execution_count": 90,
   "metadata": {},
   "outputs": [
    {
     "data": {
      "text/html": [
       "<div>\n",
       "<style scoped>\n",
       "    .dataframe tbody tr th:only-of-type {\n",
       "        vertical-align: middle;\n",
       "    }\n",
       "\n",
       "    .dataframe tbody tr th {\n",
       "        vertical-align: top;\n",
       "    }\n",
       "\n",
       "    .dataframe thead th {\n",
       "        text-align: right;\n",
       "    }\n",
       "</style>\n",
       "<table border=\"1\" class=\"dataframe\">\n",
       "  <thead>\n",
       "    <tr style=\"text-align: right;\">\n",
       "      <th></th>\n",
       "      <th>FilePathImage</th>\n",
       "      <th>FileName</th>\n",
       "      <th>FilePathMask</th>\n",
       "    </tr>\n",
       "  </thead>\n",
       "  <tbody>\n",
       "    <tr>\n",
       "      <th>0</th>\n",
       "      <td>dataset/public-covid-data/rp_im/1.nii.gz</td>\n",
       "      <td>1.nii.gz</td>\n",
       "      <td>dataset/public-covid-data/rp_msk/1.nii.gz</td>\n",
       "    </tr>\n",
       "    <tr>\n",
       "      <th>1</th>\n",
       "      <td>dataset/public-covid-data/rp_im/2.nii.gz</td>\n",
       "      <td>2.nii.gz</td>\n",
       "      <td>dataset/public-covid-data/rp_msk/2.nii.gz</td>\n",
       "    </tr>\n",
       "    <tr>\n",
       "      <th>2</th>\n",
       "      <td>dataset/public-covid-data/rp_im/3.nii.gz</td>\n",
       "      <td>3.nii.gz</td>\n",
       "      <td>dataset/public-covid-data/rp_msk/3.nii.gz</td>\n",
       "    </tr>\n",
       "    <tr>\n",
       "      <th>3</th>\n",
       "      <td>dataset/public-covid-data/rp_im/4.nii.gz</td>\n",
       "      <td>4.nii.gz</td>\n",
       "      <td>dataset/public-covid-data/rp_msk/4.nii.gz</td>\n",
       "    </tr>\n",
       "    <tr>\n",
       "      <th>4</th>\n",
       "      <td>dataset/public-covid-data/rp_im/5.nii.gz</td>\n",
       "      <td>5.nii.gz</td>\n",
       "      <td>dataset/public-covid-data/rp_msk/5.nii.gz</td>\n",
       "    </tr>\n",
       "    <tr>\n",
       "      <th>5</th>\n",
       "      <td>dataset/public-covid-data/rp_im/6.nii.gz</td>\n",
       "      <td>6.nii.gz</td>\n",
       "      <td>dataset/public-covid-data/rp_msk/6.nii.gz</td>\n",
       "    </tr>\n",
       "    <tr>\n",
       "      <th>6</th>\n",
       "      <td>dataset/public-covid-data/rp_im/7.nii.gz</td>\n",
       "      <td>7.nii.gz</td>\n",
       "      <td>dataset/public-covid-data/rp_msk/7.nii.gz</td>\n",
       "    </tr>\n",
       "    <tr>\n",
       "      <th>7</th>\n",
       "      <td>dataset/public-covid-data/rp_im/8.nii.gz</td>\n",
       "      <td>8.nii.gz</td>\n",
       "      <td>dataset/public-covid-data/rp_msk/8.nii.gz</td>\n",
       "    </tr>\n",
       "    <tr>\n",
       "      <th>8</th>\n",
       "      <td>dataset/public-covid-data/rp_im/9.nii.gz</td>\n",
       "      <td>9.nii.gz</td>\n",
       "      <td>dataset/public-covid-data/rp_msk/9.nii.gz</td>\n",
       "    </tr>\n",
       "  </tbody>\n",
       "</table>\n",
       "</div>"
      ],
      "text/plain": [
       "                              FilePathImage  FileName  \\\n",
       "0  dataset/public-covid-data/rp_im/1.nii.gz  1.nii.gz   \n",
       "1  dataset/public-covid-data/rp_im/2.nii.gz  2.nii.gz   \n",
       "2  dataset/public-covid-data/rp_im/3.nii.gz  3.nii.gz   \n",
       "3  dataset/public-covid-data/rp_im/4.nii.gz  4.nii.gz   \n",
       "4  dataset/public-covid-data/rp_im/5.nii.gz  5.nii.gz   \n",
       "5  dataset/public-covid-data/rp_im/6.nii.gz  6.nii.gz   \n",
       "6  dataset/public-covid-data/rp_im/7.nii.gz  7.nii.gz   \n",
       "7  dataset/public-covid-data/rp_im/8.nii.gz  8.nii.gz   \n",
       "8  dataset/public-covid-data/rp_im/9.nii.gz  9.nii.gz   \n",
       "\n",
       "                                FilePathMask  \n",
       "0  dataset/public-covid-data/rp_msk/1.nii.gz  \n",
       "1  dataset/public-covid-data/rp_msk/2.nii.gz  \n",
       "2  dataset/public-covid-data/rp_msk/3.nii.gz  \n",
       "3  dataset/public-covid-data/rp_msk/4.nii.gz  \n",
       "4  dataset/public-covid-data/rp_msk/5.nii.gz  \n",
       "5  dataset/public-covid-data/rp_msk/6.nii.gz  \n",
       "6  dataset/public-covid-data/rp_msk/7.nii.gz  \n",
       "7  dataset/public-covid-data/rp_msk/8.nii.gz  \n",
       "8  dataset/public-covid-data/rp_msk/9.nii.gz  "
      ]
     },
     "execution_count": 90,
     "metadata": {},
     "output_type": "execute_result"
    }
   ],
   "source": [
    "# filenameをkeyにmerge\n",
    "rp_im_df.merge(rp_msk_df, on='FileName')"
   ]
  },
  {
   "cell_type": "markdown",
   "metadata": {},
   "source": [
    "### 関数化\n",
    "やりたことはできたが、汚いため関数にして、juptylabはそれを実行するだけにするのが一般的"
   ]
  },
  {
   "cell_type": "code",
   "execution_count": 91,
   "metadata": {},
   "outputs": [],
   "source": [
    "# 同じコードを編集していく\n",
    "def get_df(basepath='dataset/public-covid-data', folder='rp_im'):\n",
    "    data_dict = pd.DataFrame({\n",
    "        'FilePath': glob('{}/{}/*'.format(basepath, folder)),\n",
    "        'FileName': [p.split('/')[-1] for p in glob('{}/{}/*'.format(basepath, folder))]\n",
    "    })\n",
    "    return data_dict\n",
    "\n",
    "def get_df_all(basepath='dataset/public-covid-data'):\n",
    "    rp_im_df = get_df(basepath, 'rp_im')\n",
    "    rp_msk_df = get_df(basepath, 'rp_msk')\n",
    "    return rp_im_df.merge(rp_msk_df, on='FileName', suffixes=(('Image', 'Mask')))"
   ]
  },
  {
   "cell_type": "code",
   "execution_count": 92,
   "metadata": {},
   "outputs": [
    {
     "data": {
      "text/html": [
       "<div>\n",
       "<style scoped>\n",
       "    .dataframe tbody tr th:only-of-type {\n",
       "        vertical-align: middle;\n",
       "    }\n",
       "\n",
       "    .dataframe tbody tr th {\n",
       "        vertical-align: top;\n",
       "    }\n",
       "\n",
       "    .dataframe thead th {\n",
       "        text-align: right;\n",
       "    }\n",
       "</style>\n",
       "<table border=\"1\" class=\"dataframe\">\n",
       "  <thead>\n",
       "    <tr style=\"text-align: right;\">\n",
       "      <th></th>\n",
       "      <th>FilePathImage</th>\n",
       "      <th>FileName</th>\n",
       "      <th>FilePathMask</th>\n",
       "    </tr>\n",
       "  </thead>\n",
       "  <tbody>\n",
       "    <tr>\n",
       "      <th>0</th>\n",
       "      <td>dataset/public-covid-data/rp_im/1.nii.gz</td>\n",
       "      <td>1.nii.gz</td>\n",
       "      <td>dataset/public-covid-data/rp_msk/1.nii.gz</td>\n",
       "    </tr>\n",
       "    <tr>\n",
       "      <th>1</th>\n",
       "      <td>dataset/public-covid-data/rp_im/2.nii.gz</td>\n",
       "      <td>2.nii.gz</td>\n",
       "      <td>dataset/public-covid-data/rp_msk/2.nii.gz</td>\n",
       "    </tr>\n",
       "    <tr>\n",
       "      <th>2</th>\n",
       "      <td>dataset/public-covid-data/rp_im/3.nii.gz</td>\n",
       "      <td>3.nii.gz</td>\n",
       "      <td>dataset/public-covid-data/rp_msk/3.nii.gz</td>\n",
       "    </tr>\n",
       "    <tr>\n",
       "      <th>3</th>\n",
       "      <td>dataset/public-covid-data/rp_im/4.nii.gz</td>\n",
       "      <td>4.nii.gz</td>\n",
       "      <td>dataset/public-covid-data/rp_msk/4.nii.gz</td>\n",
       "    </tr>\n",
       "    <tr>\n",
       "      <th>4</th>\n",
       "      <td>dataset/public-covid-data/rp_im/5.nii.gz</td>\n",
       "      <td>5.nii.gz</td>\n",
       "      <td>dataset/public-covid-data/rp_msk/5.nii.gz</td>\n",
       "    </tr>\n",
       "    <tr>\n",
       "      <th>5</th>\n",
       "      <td>dataset/public-covid-data/rp_im/6.nii.gz</td>\n",
       "      <td>6.nii.gz</td>\n",
       "      <td>dataset/public-covid-data/rp_msk/6.nii.gz</td>\n",
       "    </tr>\n",
       "    <tr>\n",
       "      <th>6</th>\n",
       "      <td>dataset/public-covid-data/rp_im/7.nii.gz</td>\n",
       "      <td>7.nii.gz</td>\n",
       "      <td>dataset/public-covid-data/rp_msk/7.nii.gz</td>\n",
       "    </tr>\n",
       "    <tr>\n",
       "      <th>7</th>\n",
       "      <td>dataset/public-covid-data/rp_im/8.nii.gz</td>\n",
       "      <td>8.nii.gz</td>\n",
       "      <td>dataset/public-covid-data/rp_msk/8.nii.gz</td>\n",
       "    </tr>\n",
       "    <tr>\n",
       "      <th>8</th>\n",
       "      <td>dataset/public-covid-data/rp_im/9.nii.gz</td>\n",
       "      <td>9.nii.gz</td>\n",
       "      <td>dataset/public-covid-data/rp_msk/9.nii.gz</td>\n",
       "    </tr>\n",
       "  </tbody>\n",
       "</table>\n",
       "</div>"
      ],
      "text/plain": [
       "                              FilePathImage  FileName  \\\n",
       "0  dataset/public-covid-data/rp_im/1.nii.gz  1.nii.gz   \n",
       "1  dataset/public-covid-data/rp_im/2.nii.gz  2.nii.gz   \n",
       "2  dataset/public-covid-data/rp_im/3.nii.gz  3.nii.gz   \n",
       "3  dataset/public-covid-data/rp_im/4.nii.gz  4.nii.gz   \n",
       "4  dataset/public-covid-data/rp_im/5.nii.gz  5.nii.gz   \n",
       "5  dataset/public-covid-data/rp_im/6.nii.gz  6.nii.gz   \n",
       "6  dataset/public-covid-data/rp_im/7.nii.gz  7.nii.gz   \n",
       "7  dataset/public-covid-data/rp_im/8.nii.gz  8.nii.gz   \n",
       "8  dataset/public-covid-data/rp_im/9.nii.gz  9.nii.gz   \n",
       "\n",
       "                                FilePathMask  \n",
       "0  dataset/public-covid-data/rp_msk/1.nii.gz  \n",
       "1  dataset/public-covid-data/rp_msk/2.nii.gz  \n",
       "2  dataset/public-covid-data/rp_msk/3.nii.gz  \n",
       "3  dataset/public-covid-data/rp_msk/4.nii.gz  \n",
       "4  dataset/public-covid-data/rp_msk/5.nii.gz  \n",
       "5  dataset/public-covid-data/rp_msk/6.nii.gz  \n",
       "6  dataset/public-covid-data/rp_msk/7.nii.gz  \n",
       "7  dataset/public-covid-data/rp_msk/8.nii.gz  \n",
       "8  dataset/public-covid-data/rp_msk/9.nii.gz  "
      ]
     },
     "execution_count": 92,
     "metadata": {},
     "output_type": "execute_result"
    }
   ],
   "source": [
    "get_df_all()"
   ]
  },
  {
   "cell_type": "markdown",
   "metadata": {},
   "source": [
    "## 関数をpythonスクリプトにする\n",
    "1. jupyterlabの左ペインの＋から、textfileを押下\n",
    "2. Renameにてctvis.pyなどにする\n",
    "3. Jupyterlabの方に戻り複数セルをマージしたい場合、洗濯して、Shift M\n",
    "4. cmd+aで全選択肢、Cmf+cでコピーして2で作ったファイルへコピー\n",
    "5. 2で作ったファイルにimport文を書く\n",
    "6. そのスクリプト内でしか呼ばれない関数は_をつける（つけても呼べるが動作保証されていない）\n",
    "7. jupyterlabでインポートして利用する"
   ]
  },
  {
   "cell_type": "code",
   "execution_count": 93,
   "metadata": {},
   "outputs": [
    {
     "name": "stdout",
     "output_type": "stream",
     "text": [
      "The autoreload extension is already loaded. To reload it, use:\n",
      "  %reload_ext autoreload\n"
     ]
    }
   ],
   "source": [
    "# 作ったファイルをインポートする\n",
    "# スクリプトファイルを変更する可能性が高いのでオーとリロード\n",
    "%load_ext autoreload\n",
    "%autoreload 2\n",
    "# この書き方をすると_のプライベートファンクションは呼べる\n",
    "# 使う時は、ctvis.XXXXXX（関数名）\n",
    "import ctvis\n",
    "# この書き方をすると_のプライベートファンクションは呼べない。この使い方はあまりない。\n",
    "# 使う時は、XXXXXX（関数名）\n",
    "from ctvis import * # "
   ]
  },
  {
   "cell_type": "code",
   "execution_count": 94,
   "metadata": {},
   "outputs": [
    {
     "data": {
      "text/html": [
       "<div>\n",
       "<style scoped>\n",
       "    .dataframe tbody tr th:only-of-type {\n",
       "        vertical-align: middle;\n",
       "    }\n",
       "\n",
       "    .dataframe tbody tr th {\n",
       "        vertical-align: top;\n",
       "    }\n",
       "\n",
       "    .dataframe thead th {\n",
       "        text-align: right;\n",
       "    }\n",
       "</style>\n",
       "<table border=\"1\" class=\"dataframe\">\n",
       "  <thead>\n",
       "    <tr style=\"text-align: right;\">\n",
       "      <th></th>\n",
       "      <th>FilePathImage</th>\n",
       "      <th>FileName</th>\n",
       "      <th>FilePathMask</th>\n",
       "    </tr>\n",
       "  </thead>\n",
       "  <tbody>\n",
       "    <tr>\n",
       "      <th>0</th>\n",
       "      <td>dataset/public-covid-data/rp_im/1.nii.gz</td>\n",
       "      <td>1.nii.gz</td>\n",
       "      <td>dataset/public-covid-data/rp_msk/1.nii.gz</td>\n",
       "    </tr>\n",
       "    <tr>\n",
       "      <th>1</th>\n",
       "      <td>dataset/public-covid-data/rp_im/2.nii.gz</td>\n",
       "      <td>2.nii.gz</td>\n",
       "      <td>dataset/public-covid-data/rp_msk/2.nii.gz</td>\n",
       "    </tr>\n",
       "    <tr>\n",
       "      <th>2</th>\n",
       "      <td>dataset/public-covid-data/rp_im/3.nii.gz</td>\n",
       "      <td>3.nii.gz</td>\n",
       "      <td>dataset/public-covid-data/rp_msk/3.nii.gz</td>\n",
       "    </tr>\n",
       "    <tr>\n",
       "      <th>3</th>\n",
       "      <td>dataset/public-covid-data/rp_im/4.nii.gz</td>\n",
       "      <td>4.nii.gz</td>\n",
       "      <td>dataset/public-covid-data/rp_msk/4.nii.gz</td>\n",
       "    </tr>\n",
       "    <tr>\n",
       "      <th>4</th>\n",
       "      <td>dataset/public-covid-data/rp_im/5.nii.gz</td>\n",
       "      <td>5.nii.gz</td>\n",
       "      <td>dataset/public-covid-data/rp_msk/5.nii.gz</td>\n",
       "    </tr>\n",
       "    <tr>\n",
       "      <th>5</th>\n",
       "      <td>dataset/public-covid-data/rp_im/6.nii.gz</td>\n",
       "      <td>6.nii.gz</td>\n",
       "      <td>dataset/public-covid-data/rp_msk/6.nii.gz</td>\n",
       "    </tr>\n",
       "    <tr>\n",
       "      <th>6</th>\n",
       "      <td>dataset/public-covid-data/rp_im/7.nii.gz</td>\n",
       "      <td>7.nii.gz</td>\n",
       "      <td>dataset/public-covid-data/rp_msk/7.nii.gz</td>\n",
       "    </tr>\n",
       "    <tr>\n",
       "      <th>7</th>\n",
       "      <td>dataset/public-covid-data/rp_im/8.nii.gz</td>\n",
       "      <td>8.nii.gz</td>\n",
       "      <td>dataset/public-covid-data/rp_msk/8.nii.gz</td>\n",
       "    </tr>\n",
       "    <tr>\n",
       "      <th>8</th>\n",
       "      <td>dataset/public-covid-data/rp_im/9.nii.gz</td>\n",
       "      <td>9.nii.gz</td>\n",
       "      <td>dataset/public-covid-data/rp_msk/9.nii.gz</td>\n",
       "    </tr>\n",
       "  </tbody>\n",
       "</table>\n",
       "</div>"
      ],
      "text/plain": [
       "                              FilePathImage  FileName  \\\n",
       "0  dataset/public-covid-data/rp_im/1.nii.gz  1.nii.gz   \n",
       "1  dataset/public-covid-data/rp_im/2.nii.gz  2.nii.gz   \n",
       "2  dataset/public-covid-data/rp_im/3.nii.gz  3.nii.gz   \n",
       "3  dataset/public-covid-data/rp_im/4.nii.gz  4.nii.gz   \n",
       "4  dataset/public-covid-data/rp_im/5.nii.gz  5.nii.gz   \n",
       "5  dataset/public-covid-data/rp_im/6.nii.gz  6.nii.gz   \n",
       "6  dataset/public-covid-data/rp_im/7.nii.gz  7.nii.gz   \n",
       "7  dataset/public-covid-data/rp_im/8.nii.gz  8.nii.gz   \n",
       "8  dataset/public-covid-data/rp_im/9.nii.gz  9.nii.gz   \n",
       "\n",
       "                                FilePathMask  \n",
       "0  dataset/public-covid-data/rp_msk/1.nii.gz  \n",
       "1  dataset/public-covid-data/rp_msk/2.nii.gz  \n",
       "2  dataset/public-covid-data/rp_msk/3.nii.gz  \n",
       "3  dataset/public-covid-data/rp_msk/4.nii.gz  \n",
       "4  dataset/public-covid-data/rp_msk/5.nii.gz  \n",
       "5  dataset/public-covid-data/rp_msk/6.nii.gz  \n",
       "6  dataset/public-covid-data/rp_msk/7.nii.gz  \n",
       "7  dataset/public-covid-data/rp_msk/8.nii.gz  \n",
       "8  dataset/public-covid-data/rp_msk/9.nii.gz  "
      ]
     },
     "execution_count": 94,
     "metadata": {},
     "output_type": "execute_result"
    }
   ],
   "source": [
    "df = ctvis.get_df_all()\n",
    "df"
   ]
  },
  {
   "cell_type": "markdown",
   "metadata": {},
   "source": [
    "## NIfTIデータをNumPy Arrayとしてロードする"
   ]
  },
  {
   "cell_type": "code",
   "execution_count": 99,
   "metadata": {},
   "outputs": [
    {
     "data": {
      "text/plain": [
       "(630, 630, 45)"
      ]
     },
     "execution_count": 99,
     "metadata": {},
     "output_type": "execute_result"
    }
   ],
   "source": [
    "sample_path = df['FilePathImage'].iloc[0]\n",
    "nifti = nib.load(sample_path)\n",
    "data = nifti.get_fdata()"
   ]
  },
  {
   "cell_type": "code",
   "execution_count": 101,
   "metadata": {},
   "outputs": [
    {
     "data": {
      "text/plain": [
       "(630, 630, 45)"
      ]
     },
     "execution_count": 101,
     "metadata": {},
     "output_type": "execute_result"
    }
   ],
   "source": [
    "# このままだと(w, h, z)　※横になっている\n",
    "data.shape"
   ]
  },
  {
   "cell_type": "code",
   "execution_count": 100,
   "metadata": {},
   "outputs": [
    {
     "data": {
      "text/plain": [
       "<matplotlib.image.AxesImage at 0x7fbb95a1bf90>"
      ]
     },
     "execution_count": 100,
     "metadata": {},
     "output_type": "execute_result"
    },
    {
     "data": {
      "image/png": "[encoded data removed]",
      "text/plain": [
       "<Figure size 432x288 with 1 Axes>"
      ]
     },
     "metadata": {
      "needs_background": "light"
     },
     "output_type": "display_data"
    }
   ],
   "source": [
    "plt.imshow(data[:, :, 10], cmap='gray')"
   ]
  },
  {
   "cell_type": "markdown",
   "metadata": {},
   "source": [
    "## np.rollaxis()\n",
    "transport以外のやり方で縦横を変える"
   ]
  },
  {
   "cell_type": "code",
   "execution_count": 102,
   "metadata": {},
   "outputs": [],
   "source": [
    "a = np.ones((4, 3, 2))"
   ]
  },
  {
   "cell_type": "code",
   "execution_count": 103,
   "metadata": {},
   "outputs": [
    {
     "data": {
      "text/plain": [
       "(4, 3, 2)"
      ]
     },
     "execution_count": 103,
     "metadata": {},
     "output_type": "execute_result"
    }
   ],
   "source": [
    "a.shape"
   ]
  },
  {
   "cell_type": "code",
   "execution_count": 105,
   "metadata": {},
   "outputs": [
    {
     "data": {
      "text/plain": [
       "(3, 4, 2)"
      ]
     },
     "execution_count": 105,
     "metadata": {},
     "output_type": "execute_result"
    }
   ],
   "source": [
    "# (4,3,2)のaxis=1(3)をstartに指定したaxis(4)の前に入れる\n",
    "b = np.rollaxis(a, axis=1, start=0)\n",
    "b.shape"
   ]
  },
  {
   "cell_type": "code",
   "execution_count": 110,
   "metadata": {},
   "outputs": [],
   "source": [
    "# CV画像でやってみる\n",
    "data_rolled = np.rollaxis(data, axis=1, start=0)"
   ]
  },
  {
   "cell_type": "code",
   "execution_count": 109,
   "metadata": {},
   "outputs": [
    {
     "data": {
      "text/plain": [
       "<matplotlib.image.AxesImage at 0x7fbb93e08490>"
      ]
     },
     "execution_count": 109,
     "metadata": {},
     "output_type": "execute_result"
    },
    {
     "data": {
      "image/png": "[encoded data removed]",
      "text/plain": [
       "<Figure size 432x288 with 1 Axes>"
      ]
     },
     "metadata": {
      "needs_background": "light"
     },
     "output_type": "display_data"
    }
   ],
   "source": [
    "plt.imshow(data_rolled[:, :, 10], cmap='gray')"
   ]
  },
  {
   "cell_type": "markdown",
   "metadata": {},
   "source": [
    "## マスクデータをRGBにする"
   ]
  },
  {
   "cell_type": "code",
   "execution_count": 114,
   "metadata": {},
   "outputs": [
    {
     "data": {
      "text/plain": [
       "(630, 630, 45)"
      ]
     },
     "execution_count": 114,
     "metadata": {},
     "output_type": "execute_result"
    }
   ],
   "source": [
    "p = df['FilePathMask'].iloc[0]\n",
    "seg_data = ctvis.load_nifti(p)\n",
    "seg_data.shape"
   ]
  },
  {
   "cell_type": "code",
   "execution_count": 115,
   "metadata": {},
   "outputs": [
    {
     "data": {
      "text/plain": [
       "<matplotlib.image.AxesImage at 0x7fbb93d2a290>"
      ]
     },
     "execution_count": 115,
     "metadata": {},
     "output_type": "execute_result"
    },
    {
     "data": {
      "image/png": "[encoded data removed]",
      "text/plain": [
       "<Figure size 432x288 with 1 Axes>"
      ]
     },
     "metadata": {
      "needs_background": "light"
     },
     "output_type": "display_data"
    }
   ],
   "source": [
    "# これで出る色はmatplotlibが付けているデータ\n",
    "plt.imshow(seg_data[:, :, 30], cmap='gray')"
   ]
  },
  {
   "cell_type": "markdown",
   "metadata": {},
   "source": [
    "## マスクデータをRGBに変換する\n",
    "マスクデータは0, 1, 2で意味のあるデータになっている\n",
    "これに以下のように3次元配列（RGB）に置き換えて色をつける\n",
    "- 0->黒（R:0, G:0, B:0）\n",
    "- 1->赤（R:255, G:0, B:0）\n",
    "- 2->緑（R:0, G:255, B:0）\n",
    "- 3->青（R:0, G:0, B:255）"
   ]
  },
  {
   "cell_type": "code",
   "execution_count": 118,
   "metadata": {},
   "outputs": [
    {
     "data": {
      "text/plain": [
       "(630, 630, 45, 3)"
      ]
     },
     "execution_count": 118,
     "metadata": {},
     "output_type": "execute_result"
    }
   ],
   "source": [
    "# まずはすべて0の箱を作ってから入れていく\n",
    "# ctデータは3次元でそこに色データを持つ4次元のデータになる\n",
    "shp = seg_data.shape\n",
    "seg_color = np.zeros((shp[0], shp[1], shp[2], 3))\n",
    "seg_color.shape"
   ]
  },
  {
   "cell_type": "code",
   "execution_count": 132,
   "metadata": {},
   "outputs": [],
   "source": [
    "# seg_dataが1のところはTrueにするフィルタ\n",
    "filter_array = np.where(seg_data==1, True, False)"
   ]
  },
  {
   "cell_type": "code",
   "execution_count": 133,
   "metadata": {},
   "outputs": [],
   "source": [
    "seg_color[filter_array] = [255, 0, 0]"
   ]
  },
  {
   "cell_type": "code",
   "execution_count": 134,
   "metadata": {},
   "outputs": [
    {
     "name": "stderr",
     "output_type": "stream",
     "text": [
      "Clipping input data to the valid range for imshow with RGB data ([0..1] for floats or [0..255] for integers).\n"
     ]
    },
    {
     "data": {
      "text/plain": [
       "<matplotlib.image.AxesImage at 0x7fbb938df710>"
      ]
     },
     "execution_count": 134,
     "metadata": {},
     "output_type": "execute_result"
    },
    {
     "data": {
      "image/png": "[encoded data removed]",
      "text/plain": [
       "<Figure size 432x288 with 1 Axes>"
      ]
     },
     "metadata": {
      "needs_background": "light"
     },
     "output_type": "display_data"
    }
   ],
   "source": [
    "plt.imshow(seg_color[:, :, 30])"
   ]
  },
  {
   "cell_type": "code",
   "execution_count": 135,
   "metadata": {},
   "outputs": [
    {
     "name": "stderr",
     "output_type": "stream",
     "text": [
      "Clipping input data to the valid range for imshow with RGB data ([0..1] for floats or [0..255] for integers).\n"
     ]
    },
    {
     "data": {
      "text/plain": [
       "<matplotlib.image.AxesImage at 0x7fbb938c7810>"
      ]
     },
     "execution_count": 135,
     "metadata": {},
     "output_type": "execute_result"
    },
    {
     "data": {
      "image/png": "[encoded data removed]",
      "text/plain": [
       "<Figure size 432x288 with 1 Axes>"
      ]
     },
     "metadata": {
      "needs_background": "light"
     },
     "output_type": "display_data"
    }
   ],
   "source": [
    "# whereではなくequalでも可能\n",
    "# こちらの方がすっきりするが、whereはイコール以外にも条件指定ができる\n",
    "filter_array = np.equal(seg_data, 2)\n",
    "seg_color[filter_array] = [0, 255, 0]\n",
    "plt.imshow(seg_color[:, :, 30])"
   ]
  },
  {
   "cell_type": "code",
   "execution_count": 136,
   "metadata": {},
   "outputs": [
    {
     "name": "stderr",
     "output_type": "stream",
     "text": [
      "Clipping input data to the valid range for imshow with RGB data ([0..1] for floats or [0..255] for integers).\n"
     ]
    },
    {
     "data": {
      "text/plain": [
       "<matplotlib.image.AxesImage at 0x7fbb93831510>"
      ]
     },
     "execution_count": 136,
     "metadata": {},
     "output_type": "execute_result"
    },
    {
     "data": {
      "image/png": "[encoded data removed]",
      "text/plain": [
       "<Figure size 432x288 with 1 Axes>"
      ]
     },
     "metadata": {
      "needs_background": "light"
     },
     "output_type": "display_data"
    }
   ],
   "source": [
    "# where, equal以外\n",
    "filter_color = np.equal(seg_data, 3)\n",
    "seg_color[filter_array] = [0, 0, 255]\n",
    "plt.imshow(seg_color[:, :, 30])"
   ]
  },
  {
   "cell_type": "markdown",
   "metadata": {},
   "source": [
    "# CTデータをHUからグレースケールに変換する"
   ]
  },
  {
   "cell_type": "code",
   "execution_count": null,
   "metadata": {},
   "outputs": [],
   "source": [
    "volume = ctvis.lad_nifti(df.loc[0]['Fil'])"
   ]
  }
 ],
 "metadata": {
  "kernelspec": {
   "display_name": "Python 3",
   "language": "python",
   "name": "python3"
  },
  "language_info": {
   "codemirror_mode": {
    "name": "ipython",
    "version": 3
   },
   "file_extension": ".py",
   "mimetype": "text/x-python",
   "name": "python",
   "nbconvert_exporter": "python",
   "pygments_lexer": "ipython3",
   "version": "3.7.6"
  }
 },
 "nbformat": 4,
 "nbformat_minor": 4
}
